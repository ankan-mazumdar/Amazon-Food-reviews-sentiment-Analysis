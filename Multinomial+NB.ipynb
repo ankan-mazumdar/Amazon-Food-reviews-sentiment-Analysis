{
 "cells": [
  {
   "cell_type": "markdown",
   "metadata": {},
   "source": [
    "# Amazon Fine Food Reviews Analysis\n",
    "\n",
    "\n",
    "Data Source: https://www.kaggle.com/snap/amazon-fine-food-reviews <br>\n",
    "\n",
    "EDA: https://nycdatascience.com/blog/student-works/amazon-fine-foods-visualization/\n",
    "\n",
    "\n",
    "The Amazon Fine Food Reviews dataset consists of reviews of fine foods from Amazon.<br>\n",
    "\n",
    "Number of reviews: 568,454<br>\n",
    "Number of users: 256,059<br>\n",
    "Number of products: 74,258<br>\n",
    "Timespan: Oct 1999 - Oct 2012<br>\n",
    "Number of Attributes/Columns in data: 10 \n",
    "\n",
    "Attribute Information:\n",
    "\n",
    "1. Id\n",
    "2. ProductId - unique identifier for the product\n",
    "3. UserId - unqiue identifier for the user\n",
    "4. ProfileName\n",
    "5. HelpfulnessNumerator - number of users who found the review helpful\n",
    "6. HelpfulnessDenominator - number of users who indicated whether they found the review helpful or not\n",
    "7. Score - rating between 1 and 5\n",
    "8. Time - timestamp for the review\n",
    "9. Summary - brief summary of the review\n",
    "10. Text - text of the review\n",
    "\n",
    "\n",
    "#### Objective:\n",
    "Given a review, determine whether the review is positive (rating of 4 or 5) or negative (rating of 1 or 2).\n",
    "\n",
    "<br>\n",
    "[Q] How to determine if a review is positive or negative?<br>\n",
    "<br> \n",
    "[Ans] We could use Score/Rating. A rating of 4 or 5 can be cosnidered as a positive review. A rating of 1 or 2 can be considered as negative one. A review of rating 3 is considered nuetral and such reviews are ignored from our analysis. This is an approximate and proxy way of determining the polarity (positivity/negativity) of a review.\n",
    "\n"
   ]
  },
  {
   "cell_type": "code",
   "execution_count": 1,
   "metadata": {
    "collapsed": true
   },
   "outputs": [],
   "source": [
    "%matplotlib inline\n",
    "import warnings\n",
    "warnings.filterwarnings(\"ignore\")\n",
    "\n",
    "\n",
    "import sqlite3\n",
    "import pandas as pd\n",
    "import numpy as np\n",
    "import nltk\n",
    "import string\n",
    "import matplotlib.pyplot as plt\n",
    "import seaborn as sns"
   ]
  },
  {
   "cell_type": "code",
   "execution_count": 2,
   "metadata": {
    "collapsed": true
   },
   "outputs": [],
   "source": [
    "con=sqlite3.connect(r\"C:\\Users\\DELL\\Desktop\\database.sqlite\")"
   ]
  },
  {
   "cell_type": "code",
   "execution_count": 3,
   "metadata": {
    "collapsed": true
   },
   "outputs": [],
   "source": [
    "filtered_data=pd.read_sql_query(\"\"\" SELECT *FROM Reviews WHERE Score != 3 LIMIT 100000\"\"\",con)"
   ]
  },
  {
   "cell_type": "code",
   "execution_count": 4,
   "metadata": {
    "collapsed": true
   },
   "outputs": [],
   "source": [
    "def partition(x):\n",
    "    if x<3:\n",
    "        return \"negative\"\n",
    "    return \"positive\"\n",
    "    \n",
    "actual_score=filtered_data[\"Score\"]\n",
    "positive_negative=actual_score.map(partition)\n",
    "filtered_data[\"Score\"]=positive_negative"
   ]
  },
  {
   "cell_type": "code",
   "execution_count": 5,
   "metadata": {
    "scrolled": true
   },
   "outputs": [
    {
     "data": {
      "text/html": [
       "<div>\n",
       "<style>\n",
       "    .dataframe thead tr:only-child th {\n",
       "        text-align: right;\n",
       "    }\n",
       "\n",
       "    .dataframe thead th {\n",
       "        text-align: left;\n",
       "    }\n",
       "\n",
       "    .dataframe tbody tr th {\n",
       "        vertical-align: top;\n",
       "    }\n",
       "</style>\n",
       "<table border=\"1\" class=\"dataframe\">\n",
       "  <thead>\n",
       "    <tr style=\"text-align: right;\">\n",
       "      <th></th>\n",
       "      <th>Id</th>\n",
       "      <th>ProductId</th>\n",
       "      <th>UserId</th>\n",
       "      <th>ProfileName</th>\n",
       "      <th>HelpfulnessNumerator</th>\n",
       "      <th>HelpfulnessDenominator</th>\n",
       "      <th>Score</th>\n",
       "      <th>Time</th>\n",
       "      <th>Summary</th>\n",
       "      <th>Text</th>\n",
       "    </tr>\n",
       "  </thead>\n",
       "  <tbody>\n",
       "    <tr>\n",
       "      <th>99995</th>\n",
       "      <td>108619</td>\n",
       "      <td>B001EQ4E3I</td>\n",
       "      <td>A1LKMGTP4M5EZ4</td>\n",
       "      <td>xx</td>\n",
       "      <td>0</td>\n",
       "      <td>0</td>\n",
       "      <td>positive</td>\n",
       "      <td>1312070400</td>\n",
       "      <td>Choc milk milk</td>\n",
       "      <td>My fave chocolate milk mix, have no idea why i...</td>\n",
       "    </tr>\n",
       "    <tr>\n",
       "      <th>99996</th>\n",
       "      <td>108620</td>\n",
       "      <td>B001EQ4E3I</td>\n",
       "      <td>ADRYHOAJ0BCKU</td>\n",
       "      <td>Frequent Amazon Shopper</td>\n",
       "      <td>0</td>\n",
       "      <td>0</td>\n",
       "      <td>positive</td>\n",
       "      <td>1306886400</td>\n",
       "      <td>great addition to protein shakes, hot cocoa, o...</td>\n",
       "      <td>Why can't I get this in a supermarket?  It's g...</td>\n",
       "    </tr>\n",
       "    <tr>\n",
       "      <th>99997</th>\n",
       "      <td>108621</td>\n",
       "      <td>B001EQ4E3I</td>\n",
       "      <td>AN27WFRJPBYD2</td>\n",
       "      <td>Pokemon Master250</td>\n",
       "      <td>0</td>\n",
       "      <td>0</td>\n",
       "      <td>positive</td>\n",
       "      <td>1305417600</td>\n",
       "      <td>No Sugar - No Difference</td>\n",
       "      <td>My favorite chocolate milk powder since i was ...</td>\n",
       "    </tr>\n",
       "    <tr>\n",
       "      <th>99998</th>\n",
       "      <td>108622</td>\n",
       "      <td>B001EQ4E3I</td>\n",
       "      <td>A31OWYSZNPL9E</td>\n",
       "      <td>Carolyn M. Young \"Caroline\"</td>\n",
       "      <td>0</td>\n",
       "      <td>0</td>\n",
       "      <td>positive</td>\n",
       "      <td>1299715200</td>\n",
       "      <td>love this product</td>\n",
       "      <td>This is a great product for those looking to r...</td>\n",
       "    </tr>\n",
       "    <tr>\n",
       "      <th>99999</th>\n",
       "      <td>108623</td>\n",
       "      <td>B001EQ4E3I</td>\n",
       "      <td>AAX6OMHQC1BN3</td>\n",
       "      <td>J. Cook \"J Cook\"</td>\n",
       "      <td>0</td>\n",
       "      <td>0</td>\n",
       "      <td>positive</td>\n",
       "      <td>1296345600</td>\n",
       "      <td>Tastes better with less sugar and fewer calories</td>\n",
       "      <td>I decided to buy the \"no sugar added\" version ...</td>\n",
       "    </tr>\n",
       "  </tbody>\n",
       "</table>\n",
       "</div>"
      ],
      "text/plain": [
       "           Id   ProductId          UserId                  ProfileName  \\\n",
       "99995  108619  B001EQ4E3I  A1LKMGTP4M5EZ4                           xx   \n",
       "99996  108620  B001EQ4E3I   ADRYHOAJ0BCKU      Frequent Amazon Shopper   \n",
       "99997  108621  B001EQ4E3I   AN27WFRJPBYD2            Pokemon Master250   \n",
       "99998  108622  B001EQ4E3I   A31OWYSZNPL9E  Carolyn M. Young \"Caroline\"   \n",
       "99999  108623  B001EQ4E3I   AAX6OMHQC1BN3             J. Cook \"J Cook\"   \n",
       "\n",
       "       HelpfulnessNumerator  HelpfulnessDenominator     Score        Time  \\\n",
       "99995                     0                       0  positive  1312070400   \n",
       "99996                     0                       0  positive  1306886400   \n",
       "99997                     0                       0  positive  1305417600   \n",
       "99998                     0                       0  positive  1299715200   \n",
       "99999                     0                       0  positive  1296345600   \n",
       "\n",
       "                                                 Summary  \\\n",
       "99995                                     Choc milk milk   \n",
       "99996  great addition to protein shakes, hot cocoa, o...   \n",
       "99997                           No Sugar - No Difference   \n",
       "99998                                  love this product   \n",
       "99999   Tastes better with less sugar and fewer calories   \n",
       "\n",
       "                                                    Text  \n",
       "99995  My fave chocolate milk mix, have no idea why i...  \n",
       "99996  Why can't I get this in a supermarket?  It's g...  \n",
       "99997  My favorite chocolate milk powder since i was ...  \n",
       "99998  This is a great product for those looking to r...  \n",
       "99999  I decided to buy the \"no sugar added\" version ...  "
      ]
     },
     "execution_count": 5,
     "metadata": {},
     "output_type": "execute_result"
    }
   ],
   "source": [
    "filtered_data.tail()"
   ]
  },
  {
   "cell_type": "code",
   "execution_count": 6,
   "metadata": {
    "collapsed": true
   },
   "outputs": [],
   "source": [
    "display = pd.read_sql_query(\"\"\"\n",
    "SELECT UserId, ProductId, ProfileName, Time, Score, Text, COUNT(*)\n",
    "FROM Reviews\n",
    "GROUP BY UserId\n",
    "HAVING COUNT(*)>1\n",
    "\"\"\", con)"
   ]
  },
  {
   "cell_type": "code",
   "execution_count": 7,
   "metadata": {},
   "outputs": [
    {
     "data": {
      "text/html": [
       "<div>\n",
       "<style>\n",
       "    .dataframe thead tr:only-child th {\n",
       "        text-align: right;\n",
       "    }\n",
       "\n",
       "    .dataframe thead th {\n",
       "        text-align: left;\n",
       "    }\n",
       "\n",
       "    .dataframe tbody tr th {\n",
       "        vertical-align: top;\n",
       "    }\n",
       "</style>\n",
       "<table border=\"1\" class=\"dataframe\">\n",
       "  <thead>\n",
       "    <tr style=\"text-align: right;\">\n",
       "      <th></th>\n",
       "      <th>UserId</th>\n",
       "      <th>ProductId</th>\n",
       "      <th>ProfileName</th>\n",
       "      <th>Time</th>\n",
       "      <th>Score</th>\n",
       "      <th>Text</th>\n",
       "      <th>COUNT(*)</th>\n",
       "    </tr>\n",
       "  </thead>\n",
       "  <tbody>\n",
       "    <tr>\n",
       "      <th>0</th>\n",
       "      <td>#oc-R115TNMSPFT9I7</td>\n",
       "      <td>B007Y59HVM</td>\n",
       "      <td>Breyton</td>\n",
       "      <td>1331510400</td>\n",
       "      <td>2</td>\n",
       "      <td>Overall its just OK when considering the price...</td>\n",
       "      <td>2</td>\n",
       "    </tr>\n",
       "    <tr>\n",
       "      <th>1</th>\n",
       "      <td>#oc-R11D9D7SHXIJB9</td>\n",
       "      <td>B005HG9ET0</td>\n",
       "      <td>Louis E. Emory \"hoppy\"</td>\n",
       "      <td>1342396800</td>\n",
       "      <td>5</td>\n",
       "      <td>My wife has recurring extreme muscle spasms, u...</td>\n",
       "      <td>3</td>\n",
       "    </tr>\n",
       "    <tr>\n",
       "      <th>2</th>\n",
       "      <td>#oc-R11DNU2NBKQ23Z</td>\n",
       "      <td>B007Y59HVM</td>\n",
       "      <td>Kim Cieszykowski</td>\n",
       "      <td>1348531200</td>\n",
       "      <td>1</td>\n",
       "      <td>This coffee is horrible and unfortunately not ...</td>\n",
       "      <td>2</td>\n",
       "    </tr>\n",
       "    <tr>\n",
       "      <th>3</th>\n",
       "      <td>#oc-R11O5J5ZVQE25C</td>\n",
       "      <td>B005HG9ET0</td>\n",
       "      <td>Penguin Chick</td>\n",
       "      <td>1346889600</td>\n",
       "      <td>5</td>\n",
       "      <td>This will be the bottle that you grab from the...</td>\n",
       "      <td>3</td>\n",
       "    </tr>\n",
       "    <tr>\n",
       "      <th>4</th>\n",
       "      <td>#oc-R12KPBODL2B5ZD</td>\n",
       "      <td>B007OSBE1U</td>\n",
       "      <td>Christopher P. Presta</td>\n",
       "      <td>1348617600</td>\n",
       "      <td>1</td>\n",
       "      <td>I didnt like this coffee. Instead of telling y...</td>\n",
       "      <td>2</td>\n",
       "    </tr>\n",
       "  </tbody>\n",
       "</table>\n",
       "</div>"
      ],
      "text/plain": [
       "               UserId   ProductId             ProfileName        Time  Score  \\\n",
       "0  #oc-R115TNMSPFT9I7  B007Y59HVM                 Breyton  1331510400      2   \n",
       "1  #oc-R11D9D7SHXIJB9  B005HG9ET0  Louis E. Emory \"hoppy\"  1342396800      5   \n",
       "2  #oc-R11DNU2NBKQ23Z  B007Y59HVM        Kim Cieszykowski  1348531200      1   \n",
       "3  #oc-R11O5J5ZVQE25C  B005HG9ET0           Penguin Chick  1346889600      5   \n",
       "4  #oc-R12KPBODL2B5ZD  B007OSBE1U   Christopher P. Presta  1348617600      1   \n",
       "\n",
       "                                                Text  COUNT(*)  \n",
       "0  Overall its just OK when considering the price...         2  \n",
       "1  My wife has recurring extreme muscle spasms, u...         3  \n",
       "2  This coffee is horrible and unfortunately not ...         2  \n",
       "3  This will be the bottle that you grab from the...         3  \n",
       "4  I didnt like this coffee. Instead of telling y...         2  "
      ]
     },
     "execution_count": 7,
     "metadata": {},
     "output_type": "execute_result"
    }
   ],
   "source": [
    "\n",
    "display.head()"
   ]
  },
  {
   "cell_type": "markdown",
   "metadata": {},
   "source": [
    "# Exploratory data analysis"
   ]
  },
  {
   "cell_type": "markdown",
   "metadata": {},
   "source": [
    "# deduplication"
   ]
  },
  {
   "cell_type": "code",
   "execution_count": 8,
   "metadata": {},
   "outputs": [
    {
     "data": {
      "text/html": [
       "<div>\n",
       "<style>\n",
       "    .dataframe thead tr:only-child th {\n",
       "        text-align: right;\n",
       "    }\n",
       "\n",
       "    .dataframe thead th {\n",
       "        text-align: left;\n",
       "    }\n",
       "\n",
       "    .dataframe tbody tr th {\n",
       "        vertical-align: top;\n",
       "    }\n",
       "</style>\n",
       "<table border=\"1\" class=\"dataframe\">\n",
       "  <thead>\n",
       "    <tr style=\"text-align: right;\">\n",
       "      <th></th>\n",
       "      <th>Id</th>\n",
       "      <th>ProductId</th>\n",
       "      <th>UserId</th>\n",
       "      <th>ProfileName</th>\n",
       "      <th>HelpfulnessNumerator</th>\n",
       "      <th>HelpfulnessDenominator</th>\n",
       "      <th>Score</th>\n",
       "      <th>Time</th>\n",
       "      <th>Summary</th>\n",
       "      <th>Text</th>\n",
       "    </tr>\n",
       "  </thead>\n",
       "  <tbody>\n",
       "    <tr>\n",
       "      <th>0</th>\n",
       "      <td>78445</td>\n",
       "      <td>B000HDL1RQ</td>\n",
       "      <td>AR5J8UI46CURR</td>\n",
       "      <td>Geetha Krishnan</td>\n",
       "      <td>2</td>\n",
       "      <td>2</td>\n",
       "      <td>5</td>\n",
       "      <td>1199577600</td>\n",
       "      <td>LOACKER QUADRATINI VANILLA WAFERS</td>\n",
       "      <td>DELICIOUS WAFERS. I FIND THAT EUROPEAN WAFERS ...</td>\n",
       "    </tr>\n",
       "    <tr>\n",
       "      <th>1</th>\n",
       "      <td>138317</td>\n",
       "      <td>B000HDOPYC</td>\n",
       "      <td>AR5J8UI46CURR</td>\n",
       "      <td>Geetha Krishnan</td>\n",
       "      <td>2</td>\n",
       "      <td>2</td>\n",
       "      <td>5</td>\n",
       "      <td>1199577600</td>\n",
       "      <td>LOACKER QUADRATINI VANILLA WAFERS</td>\n",
       "      <td>DELICIOUS WAFERS. I FIND THAT EUROPEAN WAFERS ...</td>\n",
       "    </tr>\n",
       "    <tr>\n",
       "      <th>2</th>\n",
       "      <td>138277</td>\n",
       "      <td>B000HDOPYM</td>\n",
       "      <td>AR5J8UI46CURR</td>\n",
       "      <td>Geetha Krishnan</td>\n",
       "      <td>2</td>\n",
       "      <td>2</td>\n",
       "      <td>5</td>\n",
       "      <td>1199577600</td>\n",
       "      <td>LOACKER QUADRATINI VANILLA WAFERS</td>\n",
       "      <td>DELICIOUS WAFERS. I FIND THAT EUROPEAN WAFERS ...</td>\n",
       "    </tr>\n",
       "    <tr>\n",
       "      <th>3</th>\n",
       "      <td>73791</td>\n",
       "      <td>B000HDOPZG</td>\n",
       "      <td>AR5J8UI46CURR</td>\n",
       "      <td>Geetha Krishnan</td>\n",
       "      <td>2</td>\n",
       "      <td>2</td>\n",
       "      <td>5</td>\n",
       "      <td>1199577600</td>\n",
       "      <td>LOACKER QUADRATINI VANILLA WAFERS</td>\n",
       "      <td>DELICIOUS WAFERS. I FIND THAT EUROPEAN WAFERS ...</td>\n",
       "    </tr>\n",
       "    <tr>\n",
       "      <th>4</th>\n",
       "      <td>155049</td>\n",
       "      <td>B000PAQ75C</td>\n",
       "      <td>AR5J8UI46CURR</td>\n",
       "      <td>Geetha Krishnan</td>\n",
       "      <td>2</td>\n",
       "      <td>2</td>\n",
       "      <td>5</td>\n",
       "      <td>1199577600</td>\n",
       "      <td>LOACKER QUADRATINI VANILLA WAFERS</td>\n",
       "      <td>DELICIOUS WAFERS. I FIND THAT EUROPEAN WAFERS ...</td>\n",
       "    </tr>\n",
       "  </tbody>\n",
       "</table>\n",
       "</div>"
      ],
      "text/plain": [
       "       Id   ProductId         UserId      ProfileName  HelpfulnessNumerator  \\\n",
       "0   78445  B000HDL1RQ  AR5J8UI46CURR  Geetha Krishnan                     2   \n",
       "1  138317  B000HDOPYC  AR5J8UI46CURR  Geetha Krishnan                     2   \n",
       "2  138277  B000HDOPYM  AR5J8UI46CURR  Geetha Krishnan                     2   \n",
       "3   73791  B000HDOPZG  AR5J8UI46CURR  Geetha Krishnan                     2   \n",
       "4  155049  B000PAQ75C  AR5J8UI46CURR  Geetha Krishnan                     2   \n",
       "\n",
       "   HelpfulnessDenominator  Score        Time  \\\n",
       "0                       2      5  1199577600   \n",
       "1                       2      5  1199577600   \n",
       "2                       2      5  1199577600   \n",
       "3                       2      5  1199577600   \n",
       "4                       2      5  1199577600   \n",
       "\n",
       "                             Summary  \\\n",
       "0  LOACKER QUADRATINI VANILLA WAFERS   \n",
       "1  LOACKER QUADRATINI VANILLA WAFERS   \n",
       "2  LOACKER QUADRATINI VANILLA WAFERS   \n",
       "3  LOACKER QUADRATINI VANILLA WAFERS   \n",
       "4  LOACKER QUADRATINI VANILLA WAFERS   \n",
       "\n",
       "                                                Text  \n",
       "0  DELICIOUS WAFERS. I FIND THAT EUROPEAN WAFERS ...  \n",
       "1  DELICIOUS WAFERS. I FIND THAT EUROPEAN WAFERS ...  \n",
       "2  DELICIOUS WAFERS. I FIND THAT EUROPEAN WAFERS ...  \n",
       "3  DELICIOUS WAFERS. I FIND THAT EUROPEAN WAFERS ...  \n",
       "4  DELICIOUS WAFERS. I FIND THAT EUROPEAN WAFERS ...  "
      ]
     },
     "execution_count": 8,
     "metadata": {},
     "output_type": "execute_result"
    }
   ],
   "source": [
    "display= pd.read_sql_query(\"\"\"\n",
    "SELECT *\n",
    "FROM Reviews\n",
    "WHERE Score != 3 AND UserId=\"AR5J8UI46CURR\"\n",
    "ORDER BY ProductID\n",
    "\"\"\", con)\n",
    "display.head()"
   ]
  },
  {
   "cell_type": "code",
   "execution_count": 9,
   "metadata": {
    "collapsed": true
   },
   "outputs": [],
   "source": [
    "#sorting data according to product id ascending order\n",
    "sorted_data = filtered_data.sort_values(\"ProductId\",axis=0,ascending=True,inplace=False,kind=\"quicksort\",na_position=\"last\")"
   ]
  },
  {
   "cell_type": "code",
   "execution_count": 10,
   "metadata": {
    "collapsed": true
   },
   "outputs": [],
   "source": [
    "final_data=sorted_data.drop_duplicates(subset={\"UserId\",\"ProfileName\",\"Time\",\"Text\"},keep=\"first\",inplace=False)"
   ]
  },
  {
   "cell_type": "code",
   "execution_count": 11,
   "metadata": {},
   "outputs": [
    {
     "data": {
      "text/plain": [
       "87.775"
      ]
     },
     "execution_count": 11,
     "metadata": {},
     "output_type": "execute_result"
    }
   ],
   "source": [
    "(final_data[\"Id\"].size*1/filtered_data[\"Id\"].size*1)*100"
   ]
  },
  {
   "cell_type": "code",
   "execution_count": 12,
   "metadata": {
    "collapsed": true
   },
   "outputs": [],
   "source": [
    "final_data=final_data[final_data.HelpfulnessNumerator<=final_data.HelpfulnessDenominator]"
   ]
  },
  {
   "cell_type": "code",
   "execution_count": 13,
   "metadata": {},
   "outputs": [
    {
     "data": {
      "text/plain": [
       "positive    73592\n",
       "negative    14181\n",
       "Name: Score, dtype: int64"
      ]
     },
     "execution_count": 13,
     "metadata": {},
     "output_type": "execute_result"
    }
   ],
   "source": [
    "final_data[\"Score\"].value_counts()"
   ]
  },
  {
   "cell_type": "markdown",
   "metadata": {},
   "source": [
    "# Preprocessing"
   ]
  },
  {
   "cell_type": "markdown",
   "metadata": {},
   "source": [
    "Now that we have finished deduplication our data requires some preprocessing before we go on further with analysis and making the prediction model.\n",
    "\n",
    "1:Hence in the Preprocessing phase we do the following in the order below:-\n",
    "\n",
    "2:Begin by removing the html tags\n",
    "\n",
    "3:Remove any punctuations or limited set of special characters like , or . or # etc.\n",
    "\n",
    "4:Check if the word is made up of english letters and is not alpha-numeric\n",
    "\n",
    "5:Check to see if the length of the word is greater than 2 (as it was researched that there is no adjective in 2-letters)\n",
    "\n",
    "6:Convert the word to lowercase\n",
    "\n",
    "7:Remove Stopwords\n",
    "\n",
    "8:Finally Snowball Stemming the word (it was obsereved to be better than Porter Stemming)\n",
    "\n",
    "8:After which we collect the words used to describe positive and negative revi"
   ]
  },
  {
   "cell_type": "code",
   "execution_count": 14,
   "metadata": {},
   "outputs": [
    {
     "name": "stdout",
     "output_type": "stream",
     "text": [
      "My dogs loves this chicken but its a product from China, so we wont be buying it anymore.  Its very hard to find any chicken products made in the USA but they are out there, but this one isnt.  Its too bad too because its a good product but I wont take any chances till they know what is going on with the china imports.\n",
      "==================================================\n",
      "The Candy Blocks were a nice visual for the Lego Birthday party but the candy has little taste to it.  Very little of the 2 lbs that I bought were eaten and I threw the rest away.  I would not buy the candy again.\n",
      "==================================================\n",
      "was way to hot for my blood, took a bite and did a jig  lol\n",
      "==================================================\n",
      "My dog LOVES these treats. They tend to have a very strong fish oil smell. So if you are afraid of the fishy smell, don't get it. But I think my dog likes it because of the smell. These treats are really small in size. They are great for training. You can give your dog several of these without worrying about him over eating. Amazon's price was much more reasonable than any other retailer. You can buy a 1 pound bag on Amazon for almost the same price as a 6 ounce bag at other retailers. It's definitely worth it to buy a big bag if your dog eats them a lot.\n",
      "==================================================\n"
     ]
    }
   ],
   "source": [
    "# printing some random reviews\n",
    "sent_0 = final_data['Text'].values[0]\n",
    "print(sent_0)\n",
    "print(\"=\"*50)\n",
    "\n",
    "sent_1000 = final_data['Text'].values[1000]\n",
    "print(sent_1000)\n",
    "print(\"=\"*50)\n",
    "\n",
    "sent_1500 = final_data['Text'].values[1500]\n",
    "print(sent_1500)\n",
    "print(\"=\"*50)\n",
    "\n",
    "sent_4900 = final_data['Text'].values[4900]\n",
    "print(sent_4900)\n",
    "print(\"=\"*50)"
   ]
  },
  {
   "cell_type": "code",
   "execution_count": 15,
   "metadata": {},
   "outputs": [
    {
     "name": "stdout",
     "output_type": "stream",
     "text": [
      "My dogs loves this chicken but its a product from China, so we wont be buying it anymore.  Its very hard to find any chicken products made in the USA but they are out there, but this one isnt.  Its too bad too because its a good product but I wont take any chances till they know what is going on with the china imports.\n"
     ]
    }
   ],
   "source": [
    "# remove urls from text python: https://stackoverflow.com/a/40823105/4084039\n",
    "import re\n",
    "sent_0 = re.sub(r\"http\\S+\", \"\", sent_0)\n",
    "sent_1000 = re.sub(r\"http\\S+\", \"\", sent_1000)\n",
    "sent_150 = re.sub(r\"http\\S+\", \"\", sent_1500)\n",
    "sent_4900 = re.sub(r\"http\\S+\", \"\", sent_4900)\n",
    "\n",
    "print(sent_0)"
   ]
  },
  {
   "cell_type": "code",
   "execution_count": 16,
   "metadata": {},
   "outputs": [
    {
     "name": "stdout",
     "output_type": "stream",
     "text": [
      "My dogs loves this chicken but its a product from China, so we wont be buying it anymore.  Its very hard to find any chicken products made in the USA but they are out there, but this one isnt.  Its too bad too because its a good product but I wont take any chances till they know what is going on with the china imports.\n",
      "==================================================\n",
      "The Candy Blocks were a nice visual for the Lego Birthday party but the candy has little taste to it.  Very little of the 2 lbs that I bought were eaten and I threw the rest away.  I would not buy the candy again.\n",
      "==================================================\n",
      "was way to hot for my blood, took a bite and did a jig  lol\n",
      "==================================================\n",
      "My dog LOVES these treats. They tend to have a very strong fish oil smell. So if you are afraid of the fishy smell, don't get it. But I think my dog likes it because of the smell. These treats are really small in size. They are great for training. You can give your dog several of these without worrying about him over eating. Amazon's price was much more reasonable than any other retailer. You can buy a 1 pound bag on Amazon for almost the same price as a 6 ounce bag at other retailers. It's definitely worth it to buy a big bag if your dog eats them a lot.\n"
     ]
    }
   ],
   "source": [
    "# https://stackoverflow.com/questions/16206380/python-beautifulsoup-how-to-remove-all-tags-from-an-element\n",
    "from bs4 import BeautifulSoup\n",
    "\n",
    "soup = BeautifulSoup(sent_0, 'lxml')\n",
    "text = soup.get_text()\n",
    "print(text)\n",
    "print(\"=\"*50)\n",
    "\n",
    "soup = BeautifulSoup(sent_1000, 'lxml')\n",
    "text = soup.get_text()\n",
    "print(text)\n",
    "print(\"=\"*50)\n",
    "\n",
    "soup = BeautifulSoup(sent_1500, 'lxml')\n",
    "text = soup.get_text()\n",
    "print(text)\n",
    "print(\"=\"*50)\n",
    "\n",
    "soup = BeautifulSoup(sent_4900, 'lxml')\n",
    "text = soup.get_text()\n",
    "print(text)"
   ]
  },
  {
   "cell_type": "code",
   "execution_count": 17,
   "metadata": {
    "collapsed": true
   },
   "outputs": [],
   "source": [
    "\n",
    "\n",
    "def decontracted(phrase):\n",
    "    # specific\n",
    "    phrase = re.sub(r\"won't\", \"will not\", phrase)\n",
    "    phrase = re.sub(r\"can\\'t\", \"can not\", phrase)\n",
    "\n",
    "    # general\n",
    "    phrase = re.sub(r\"n\\'t\", \" not\", phrase)\n",
    "    phrase = re.sub(r\"\\'re\", \" are\", phrase)\n",
    "    phrase = re.sub(r\"\\'s\", \" is\", phrase)\n",
    "    phrase = re.sub(r\"\\'d\", \" would\", phrase)\n",
    "    phrase = re.sub(r\"\\'ll\", \" will\", phrase)\n",
    "    phrase = re.sub(r\"\\'t\", \" not\", phrase)\n",
    "    phrase = re.sub(r\"\\'ve\", \" have\", phrase)\n",
    "    phrase = re.sub(r\"\\'m\", \" am\", phrase)\n",
    "    return phrase"
   ]
  },
  {
   "cell_type": "code",
   "execution_count": 18,
   "metadata": {},
   "outputs": [
    {
     "name": "stdout",
     "output_type": "stream",
     "text": [
      "My dogs loves this chicken but its a product from China, so we wont be buying it anymore.  Its very hard to find any chicken products made in the USA but they are out there, but this one isnt.  Its too bad too because its a good product but I wont take any chances till they know what is going on with the china imports.\n"
     ]
    }
   ],
   "source": [
    "#remove words with numbers python: https://stackoverflow.com/a/18082370/4084039\n",
    "sent_0 = re.sub(\"\\S*\\d\\S*\", \"\", sent_0).strip()\n",
    "print(sent_0)"
   ]
  },
  {
   "cell_type": "code",
   "execution_count": 19,
   "metadata": {},
   "outputs": [
    {
     "name": "stdout",
     "output_type": "stream",
     "text": [
      "was way to hot for my blood took a bite and did a jig lol\n"
     ]
    }
   ],
   "source": [
    "#remove spacial character: https://stackoverflow.com/a/5843547/4084039\n",
    "sent_1500 = re.sub('[^A-Za-z0-9]+', ' ', sent_1500)\n",
    "print(sent_1500)"
   ]
  },
  {
   "cell_type": "code",
   "execution_count": 20,
   "metadata": {
    "collapsed": true
   },
   "outputs": [],
   "source": [
    "# https://gist.github.com/sebleier/554280\n",
    "# we are removing the words from the stop words list: 'no', 'nor', 'not'\n",
    "# <br /><br /> ==> after the above steps, we are getting \"br br\"\n",
    "# we are including them into stop words list\n",
    "# instead of <br /> if we have <br/> these tags would have revmoved in the 1st step\n",
    "\n",
    "stopwords= set(['br', 'the', 'i', 'me', 'my', 'myself', 'we', 'our', 'ours', 'ourselves', 'you', \"you're\", \"you've\",\\\n",
    "            \"you'll\", \"you'd\", 'your', 'yours', 'yourself', 'yourselves', 'he', 'him', 'his', 'himself', 'would',\\\n",
    "            'she', \"she's\", 'her', 'hers', 'herself', 'it', \"it's\", 'its', 'itself', 'they', 'them', 'their',\\\n",
    "            'theirs', 'themselves', 'what', 'which', 'who', 'whom', 'this', 'that', \"that'll\", 'these', 'those', \\\n",
    "            'am', 'is', 'are', 'was', 'were', 'be', 'been', 'being', 'have', 'has', 'had', 'having', 'do', 'does', \\\n",
    "            'did', 'doing', 'a', 'an', 'the', 'and', 'but', 'if', 'or', 'because', 'as', 'until', 'while', 'of', \\\n",
    "            'at', 'by', 'for', 'with', 'about', 'against', 'between', 'into', 'through', 'during', 'before', 'after',\\\n",
    "            'above', 'below', 'to', 'from', 'up', 'down', 'in', 'out', 'on', 'off', 'over', 'under', 'again', 'further',\\\n",
    "            'then', 'once', 'here', 'there', 'when', 'where', 'why', 'how', 'all', 'any', 'both', 'each', 'few', 'more',\\\n",
    "            'most', 'other', 'some', 'such', 'only', 'own', 'same', 'so', 'than', 'too', 'very', \\\n",
    "            's', 't', 'can', 'will', 'just', 'don', \"don't\", 'should', \"should've\", 'now', 'd', 'll', 'm', 'o', 're', \\\n",
    "            've', 'y', 'ain', 'aren', \"aren't\", 'couldn', \"couldn't\", 'didn', \"didn't\", 'doesn', \"doesn't\", 'hadn',\\\n",
    "            \"hadn't\", 'hasn', \"hasn't\", 'haven', \"haven't\", 'isn', \"isn't\", 'ma', 'mightn', \"mightn't\", 'mustn',\\\n",
    "            \"mustn't\", 'needn', \"needn't\", 'shan', \"shan't\", 'shouldn', \"shouldn't\", 'wasn', \"wasn't\", 'weren', \"weren't\", \\\n",
    "            'won', \"won't\", 'wouldn', \"wouldn't\"])"
   ]
  },
  {
   "cell_type": "code",
   "execution_count": 21,
   "metadata": {
    "collapsed": true
   },
   "outputs": [],
   "source": [
    "from bs4 import BeautifulSoup\n",
    "preprocessed_reviews = []\n",
    "for sentance in final_data['Text'].values:\n",
    "    sentance = re.sub(r\"http\\S+\", \"\", sentance)\n",
    "    sentance = BeautifulSoup(sentance, 'lxml').get_text()\n",
    "    sentance = decontracted(sentance)\n",
    "    sentance = re.sub(\"\\S*\\d\\S*\", \"\", sentance).strip()\n",
    "    sentance = re.sub('[^A-Za-z]+', ' ', sentance)\n",
    "    # https://gist.github.com/sebleier/554280\n",
    "    sentance = ' '.join(e.lower() for e in sentance.split() if e.lower() not in stopwords)\n",
    "    preprocessed_reviews.append(sentance.strip())"
   ]
  },
  {
   "cell_type": "code",
   "execution_count": 22,
   "metadata": {},
   "outputs": [
    {
     "data": {
      "text/plain": [
       "'way hot blood took bite jig lol'"
      ]
     },
     "execution_count": 22,
     "metadata": {},
     "output_type": "execute_result"
    }
   ],
   "source": [
    "preprocessed_reviews[1500]"
   ]
  },
  {
   "cell_type": "code",
   "execution_count": 23,
   "metadata": {
    "collapsed": true
   },
   "outputs": [],
   "source": [
    "final_data[\"CleanedText\"]=preprocessed_reviews"
   ]
  },
  {
   "cell_type": "code",
   "execution_count": 24,
   "metadata": {},
   "outputs": [
    {
     "data": {
      "text/plain": [
       "'chips tasty nice size serving calories good grab go snack busy moms'"
      ]
     },
     "execution_count": 24,
     "metadata": {},
     "output_type": "execute_result"
    }
   ],
   "source": [
    "final_data[\"CleanedText\"][1500]"
   ]
  },
  {
   "cell_type": "code",
   "execution_count": 25,
   "metadata": {
    "collapsed": true
   },
   "outputs": [],
   "source": [
    "final_data[\"Time\"]=pd.to_datetime(final_data[\"Time\"], unit=\"s\")\n",
    "final_data=final_data.sort_values(by=\"Time\")\n"
   ]
  },
  {
   "cell_type": "markdown",
   "metadata": {},
   "source": [
    "# 4:Featurization"
   ]
  },
  {
   "cell_type": "markdown",
   "metadata": {},
   "source": [
    "# 4.1 BoW"
   ]
  },
  {
   "cell_type": "code",
   "execution_count": 26,
   "metadata": {
    "collapsed": true
   },
   "outputs": [],
   "source": [
    "X=final_data[\"CleanedText\"].values\n",
    "y=final_data[\"Score\"]"
   ]
  },
  {
   "cell_type": "code",
   "execution_count": 27,
   "metadata": {
    "collapsed": true
   },
   "outputs": [],
   "source": [
    "from sklearn.model_selection import train_test_split"
   ]
  },
  {
   "cell_type": "code",
   "execution_count": 28,
   "metadata": {
    "collapsed": true
   },
   "outputs": [],
   "source": [
    "X_1,X_test,y_1,y_test=train_test_split(X,y,test_size=0.3,random_state=3)\n",
    "X_train,X_cv,y_train,y_cv=train_test_split(X_1,y_1)"
   ]
  },
  {
   "cell_type": "code",
   "execution_count": 29,
   "metadata": {
    "collapsed": true
   },
   "outputs": [],
   "source": [
    "from sklearn.feature_extraction.text import CountVectorizer"
   ]
  },
  {
   "cell_type": "code",
   "execution_count": 30,
   "metadata": {
    "collapsed": true
   },
   "outputs": [],
   "source": [
    "count_vect=CountVectorizer().fit(X_train)"
   ]
  },
  {
   "cell_type": "code",
   "execution_count": 31,
   "metadata": {},
   "outputs": [
    {
     "name": "stdout",
     "output_type": "stream",
     "text": [
      "type of X_tr : <class 'scipy.sparse.csr.csr_matrix'>\n",
      "shape of _x_tr: (46080, 40663)\n",
      "count of unique words: 40663\n"
     ]
    }
   ],
   "source": [
    "X_tr=count_vect.transform(X_train)\n",
    "X_cv=count_vect.transform(X_cv)\n",
    "X_test=count_vect.transform(X_test)\n",
    "print(\"type of X_tr :\", type(X_tr))\n",
    "print(\"shape of _x_tr:\",X_tr.get_shape())\n",
    "print(\"count of unique words:\",X_tr.get_shape()[1])"
   ]
  },
  {
   "cell_type": "code",
   "execution_count": 32,
   "metadata": {
    "collapsed": true
   },
   "outputs": [],
   "source": [
    "from sklearn.preprocessing import StandardScaler"
   ]
  },
  {
   "cell_type": "code",
   "execution_count": 33,
   "metadata": {
    "collapsed": true
   },
   "outputs": [],
   "source": [
    "scaler=StandardScaler(with_mean=False).fit(X_tr)\n",
    "X_tr=scaler.transform(X_tr)\n",
    "X_cv=scaler.transform(X_cv)\n",
    "X_test=scaler.transform(X_test)"
   ]
  },
  {
   "cell_type": "markdown",
   "metadata": {},
   "source": [
    "# Hyperparameter tuning"
   ]
  },
  {
   "cell_type": "code",
   "execution_count": 34,
   "metadata": {
    "collapsed": true
   },
   "outputs": [],
   "source": [
    "from sklearn.naive_bayes import MultinomialNB\n",
    "from sklearn.metrics import accuracy_score,confusion_matrix,f1_score,precision_score,recall_score,roc_auc_score\n"
   ]
  },
  {
   "cell_type": "code",
   "execution_count": 35,
   "metadata": {
    "collapsed": true
   },
   "outputs": [],
   "source": [
    "# Creating alpha values in the range from 10^-3 to 10^3\n",
    "range_alpha=[10**x for x in range(-4,4)]\n"
   ]
  },
  {
   "cell_type": "code",
   "execution_count": 36,
   "metadata": {},
   "outputs": [
    {
     "data": {
      "image/png": "[encoded data removed]",
      "text/plain": [
       "<matplotlib.figure.Figure at 0x20416891e48>"
      ]
     },
     "metadata": {},
     "output_type": "display_data"
    }
   ],
   "source": [
    "train_auc=[]\n",
    "cv_auc=[]\n",
    "for i in range_alpha:\n",
    "    nb=MultinomialNB(alpha=i)\n",
    "    nb.fit(X_tr,y_train)\n",
    "    y_tr_predict=nb.predict_proba(X_tr)[:,1]\n",
    "    y_cv_predict=nb.predict_proba(X_cv)[:,1]\n",
    "    train_auc.append(roc_auc_score(y_train,y_tr_predict))\n",
    "    cv_auc.append(roc_auc_score(y_cv,y_cv_predict))\n",
    "    \n",
    "plt.plot(np.log(range_alpha), train_auc,label=\"train_auc\")\n",
    "plt.plot(np.log(range_alpha), cv_auc,label=\"cv_auc\")\n",
    "plt.xlabel(\"log(alpha hyperparameter)\")\n",
    "plt.ylabel(\"AUC\")\n",
    "plt.legend()\n",
    "plt.title(\"error plot\")\n",
    "plt.show()\n"
   ]
  },
  {
   "cell_type": "code",
   "execution_count": 37,
   "metadata": {},
   "outputs": [
    {
     "name": "stdout",
     "output_type": "stream",
     "text": [
      "/n optimal value of alpha is  31.\n"
     ]
    }
   ],
   "source": [
    "optimal_alpha_bow=range_alpha[cv_auc.index(max(cv_auc))]\n",
    "print(\"/n optimal value of alpha is %3.f.\" %optimal_alpha_bow)"
   ]
  },
  {
   "cell_type": "code",
   "execution_count": 38,
   "metadata": {},
   "outputs": [
    {
     "name": "stdout",
     "output_type": "stream",
     "text": [
      "Confusion Matrix of test set:\n",
      " [ [TN  FP]\n",
      " [FN TP] ]\n",
      "\n"
     ]
    },
    {
     "data": {
      "image/png": "[encoded data removed]",
      "text/plain": [
       "<matplotlib.figure.Figure at 0x2042f6c8908>"
      ]
     },
     "metadata": {},
     "output_type": "display_data"
    }
   ],
   "source": [
    "# ====================================multinomial NB with optimal alpha====================================================#\n",
    "optimal_NB=MultinomialNB(alpha=optimal_alpha_bow)\n",
    "optimal_NB.fit(X_tr,y_train)\n",
    "y_tr_pred=optimal_NB.predict(X_tr)\n",
    "y_test_pred=optimal_NB.predict(X_test)\n",
    "print(\"Confusion Matrix of test set:\\n [ [TN  FP]\\n [FN TP] ]\\n\")\n",
    "df_cm = pd.DataFrame(confusion_matrix(y_test, y_test_pred), range(2),range(2))\n",
    "sns.set(font_scale=1.4)#for label size\n",
    "sns.heatmap(df_cm, annot=True,annot_kws={\"size\": 16}, fmt='g')\n",
    "plt.ylabel('Predicted label',size=18)\n",
    "plt.xlabel('True label',size=18)\n",
    "plt.title(\"Confusion Matrix\\n\",size=24)\n",
    "plt.show()\n"
   ]
  },
  {
   "cell_type": "code",
   "execution_count": 39,
   "metadata": {},
   "outputs": [
    {
     "name": "stdout",
     "output_type": "stream",
     "text": [
      "accuracy at alpha=31 is 83.58271304876196\n",
      "accuracy at alpha=31 is 93.06640625\n",
      "precission score at alpha=31 is <function precision_score at 0x000002041D9ED268>\n",
      "recall score at alpha 31 is 88.92403633241447\n",
      "f1_score at alpha=31 is 90.10279539366745\n"
     ]
    }
   ],
   "source": [
    "#evaluating accuracy\n",
    "test_acc_bow=accuracy_score(y_test, y_test_pred)*100\n",
    "print(\"accuracy at alpha={} is {}\" .format(optimal_alpha_bow,test_acc_bow))\n",
    "tr_acc_bow=accuracy_score(y_train, y_tr_pred)*100\n",
    "print(\"accuracy at alpha={} is {}\" .format(optimal_alpha_bow,tr_acc_bow))\n",
    "#evaluating preciission\n",
    "precision_bow=precision_score(y_test, y_test_pred,pos_label=\"positive\")*100\n",
    "print(\"precission score at alpha={} is {}\" .format(optimal_alpha_bow,precision_score))\n",
    "#evaluating recaall\n",
    "recall_bow=recall_score(y_test,y_test_pred,pos_label=\"positive\")*100\n",
    "print(\"recall score at alpha {} is {}\" .format(optimal_alpha_bow,recall_bow))\n",
    "#evaluating f1 score\n",
    "f1_bow=f1_score(y_test,y_test_pred,pos_label=\"positive\")*100\n",
    "print(\"f1_score at alpha={} is {}\" .format(optimal_alpha_bow,f1_bow))"
   ]
  },
  {
   "cell_type": "code",
   "execution_count": 40,
   "metadata": {},
   "outputs": [
    {
     "data": {
      "text/plain": [
       "array(['negative', 'positive'], dtype='<U8')"
      ]
     },
     "execution_count": 40,
     "metadata": {},
     "output_type": "execute_result"
    }
   ],
   "source": [
    "optimal_NB.classes_"
   ]
  },
  {
   "cell_type": "markdown",
   "metadata": {},
   "source": [
    "# Top features"
   ]
  },
  {
   "cell_type": "code",
   "execution_count": 41,
   "metadata": {},
   "outputs": [
    {
     "name": "stdout",
     "output_type": "stream",
     "text": [
      "Top 20 Important Features and their log probabilities For Negative Class :\n",
      "\n",
      "\n",
      "not\t -->\t-6.543944  \n",
      "like\t -->\t-7.111081  \n",
      "taste\t -->\t-7.133301  \n",
      "product\t -->\t-7.174375  \n",
      "bad\t -->\t-7.347030  \n",
      "disappointed\t -->\t-7.372622  \n",
      "one\t -->\t-7.396138  \n",
      "money\t -->\t-7.425396  \n",
      "even\t -->\t-7.426708  \n",
      "no\t -->\t-7.428008  \n",
      "could\t -->\t-7.494490  \n",
      "buy\t -->\t-7.508024  \n",
      "thought\t -->\t-7.508914  \n",
      "bought\t -->\t-7.531329  \n",
      "worst\t -->\t-7.570064  \n",
      "get\t -->\t-7.581592  \n",
      "flavor\t -->\t-7.591406  \n",
      "away\t -->\t-7.606049  \n",
      "much\t -->\t-7.607087  \n",
      "waste\t -->\t-7.608682  \n",
      "\n",
      "\n",
      "Top 20 Important Features and their log probabilities For Positive Class :\n",
      "\n",
      "\n",
      "not\t -->\t-6.746199  \n",
      "great\t -->\t-6.866985  \n",
      "good\t -->\t-6.938284  \n",
      "like\t -->\t-7.008045  \n",
      "love\t -->\t-7.057754  \n",
      "one\t -->\t-7.125880  \n",
      "taste\t -->\t-7.195931  \n",
      "flavor\t -->\t-7.232331  \n",
      "get\t -->\t-7.283264  \n",
      "best\t -->\t-7.293663  \n",
      "really\t -->\t-7.317948  \n",
      "product\t -->\t-7.339902  \n",
      "little\t -->\t-7.355218  \n",
      "find\t -->\t-7.355400  \n",
      "also\t -->\t-7.358865  \n",
      "much\t -->\t-7.363524  \n",
      "time\t -->\t-7.370492  \n",
      "price\t -->\t-7.376453  \n",
      "no\t -->\t-7.386216  \n",
      "use\t -->\t-7.399725  \n"
     ]
    }
   ],
   "source": [
    "# Now we can find log probabilities of different features for both the classes\n",
    "class_features = optimal_NB.feature_log_prob_\n",
    "\n",
    "#  row_0 is for 'negative' class and row_1 is for 'positive' class\n",
    "negative_features = class_features[0]\n",
    "positive_features = class_features[1]\n",
    "\n",
    "# Getting all feature names\n",
    "feature_names = count_vect.get_feature_names()\n",
    "\n",
    "# Sorting 'negative_features' and 'positive_features' in descending order using argsort() function\n",
    "sorted_negative_features = np.argsort(negative_features)[::-1]\n",
    "sorted_positive_features = np.argsort(positive_features)[::-1]\n",
    "\n",
    "print(\"Top 20 Important Features and their log probabilities For Negative Class :\\n\\n\")\n",
    "for i in list(sorted_negative_features[0:20]):\n",
    "    print(\"%s\\t -->\\t%f  \"%(feature_names[i],negative_features[i]))\n",
    "    \n",
    "print(\"\\n\\nTop 20 Important Features and their log probabilities For Positive Class :\\n\\n\")\n",
    "for i in list(sorted_positive_features[0:20]):\n",
    "    print(\"%s\\t -->\\t%f  \"%(feature_names[i],positive_features[i]))"
   ]
  },
  {
   "cell_type": "markdown",
   "metadata": {},
   "source": [
    "# tf_idf\n"
   ]
  },
  {
   "cell_type": "code",
   "execution_count": 42,
   "metadata": {
    "collapsed": true
   },
   "outputs": [],
   "source": [
    "X=final_data[\"CleanedText\"].values\n",
    "y=final_data[\"Score\"]"
   ]
  },
  {
   "cell_type": "code",
   "execution_count": 43,
   "metadata": {
    "collapsed": true
   },
   "outputs": [],
   "source": [
    "from sklearn.model_selection import train_test_split\n",
    "X_1,X_test,y_1,y_test=train_test_split(X,y,test_size=0.3,random_state=3)\n",
    "X_train,X_cv,y_train,y_cv=train_test_split(X_1,y_1)"
   ]
  },
  {
   "cell_type": "code",
   "execution_count": 44,
   "metadata": {
    "collapsed": true
   },
   "outputs": [],
   "source": [
    "from sklearn.feature_extraction.text import TfidfVectorizer\n",
    "tfidf_vect = TfidfVectorizer(ngram_range=(1,2), min_df=10).fit(X_train)"
   ]
  },
  {
   "cell_type": "code",
   "execution_count": 45,
   "metadata": {
    "collapsed": true
   },
   "outputs": [],
   "source": [
    "X_tr=tfidf_vect.transform(X_train)\n",
    "X_cv=tfidf_vect.transform(X_cv)\n",
    "X_test=tfidf_vect.transform(X_test)"
   ]
  },
  {
   "cell_type": "code",
   "execution_count": 46,
   "metadata": {
    "collapsed": true
   },
   "outputs": [],
   "source": [
    "from sklearn.preprocessing import StandardScaler"
   ]
  },
  {
   "cell_type": "code",
   "execution_count": 47,
   "metadata": {
    "collapsed": true
   },
   "outputs": [],
   "source": [
    "scaler=StandardScaler(with_mean=False).fit(X_tr)\n",
    "X_tr=scaler.transform(X_tr)\n",
    "X_cv=scaler.transform(X_cv)\n",
    "X_test=scaler.transform(X_test)"
   ]
  },
  {
   "cell_type": "markdown",
   "metadata": {},
   "source": [
    "# Hyperparameter tuning"
   ]
  },
  {
   "cell_type": "code",
   "execution_count": 48,
   "metadata": {
    "collapsed": true
   },
   "outputs": [],
   "source": [
    "from sklearn.naive_bayes import MultinomialNB\n"
   ]
  },
  {
   "cell_type": "code",
   "execution_count": 49,
   "metadata": {
    "collapsed": true
   },
   "outputs": [],
   "source": [
    "from sklearn.metrics import accuracy_score,precision_score,recall_score,f1_score,roc_auc_score"
   ]
  },
  {
   "cell_type": "code",
   "execution_count": 50,
   "metadata": {
    "collapsed": true
   },
   "outputs": [],
   "source": [
    "# Creating alpha values in the range from 10^-3 to 10^3\n",
    "range_alpha=[10**x for x in range(-4,4)]\n"
   ]
  },
  {
   "cell_type": "code",
   "execution_count": 51,
   "metadata": {},
   "outputs": [
    {
     "data": {
      "image/png": "[encoded data removed]",
      "text/plain": [
       "<matplotlib.figure.Figure at 0x20437039320>"
      ]
     },
     "metadata": {},
     "output_type": "display_data"
    }
   ],
   "source": [
    "train_auc=[]\n",
    "cv_auc=[]\n",
    "for i in range_alpha:\n",
    "    nb=MultinomialNB(alpha=i)\n",
    "    nb.fit(X_tr,y_train)\n",
    "    y_tr_pred=nb.predict_proba(X_tr)[:,1]\n",
    "    y_cv_pred=nb.predict_proba(X_cv)[:,1]\n",
    "    train_auc.append(roc_auc_score(y_train,y_tr_pred))\n",
    "    cv_auc.append(roc_auc_score(y_cv,y_cv_pred))\n",
    "    \n",
    "plt.plot(np.log(range_alpha), train_auc,label=\"train_auc\")\n",
    "plt.plot(np.log(range_alpha), cv_auc,label=\"cv_auc\")\n",
    "plt.xlabel(\"log(alpha) hyperparameter\")\n",
    "plt.ylabel(\"AUC\")\n",
    "plt.legend()\n",
    "plt.title(\"error plot\")\n",
    "plt.show()    "
   ]
  },
  {
   "cell_type": "code",
   "execution_count": 52,
   "metadata": {},
   "outputs": [
    {
     "name": "stdout",
     "output_type": "stream",
     "text": [
      "optimal alpha for tfidf is 211\n"
     ]
    }
   ],
   "source": [
    "optimal_alpha_tfidf=range_alpha[cv_auc.index(max(cv_auc))]\n",
    "print(\"optimal alpha for tfidf is {}\" .format(optimal_alpha_tfidf))\n"
   ]
  },
  {
   "cell_type": "code",
   "execution_count": 53,
   "metadata": {},
   "outputs": [
    {
     "name": "stdout",
     "output_type": "stream",
     "text": [
      "Confusion Matrix of test set:\n",
      " [ [TN  FP]\n",
      " [FN TP] ]\n",
      "\n"
     ]
    },
    {
     "data": {
      "image/png": "[encoded data removed]",
      "text/plain": [
       "<matplotlib.figure.Figure at 0x2042f93e898>"
      ]
     },
     "metadata": {},
     "output_type": "display_data"
    }
   ],
   "source": [
    "#training model at optimal alpha\n",
    "optimal_nb_tfidf=MultinomialNB(alpha=optimal_alpha_tfidf)\n",
    "optimal_nb_tfidf.fit(X_tr,y_train)\n",
    "y_test_pred=optimal_nb_tfidf.predict(X_test)\n",
    "y_tr_pred=optimal_nb_tfidf.predict(X_tr)\n",
    "print(\"Confusion Matrix of test set:\\n [ [TN  FP]\\n [FN TP] ]\\n\")\n",
    "df_cm = pd.DataFrame(confusion_matrix(y_test, y_test_pred), range(2),range(2))\n",
    "sns.set(font_scale=1.4)#for label size\n",
    "sns.heatmap(df_cm, annot=True,annot_kws={\"size\": 16}, fmt='g')\n",
    "plt.ylabel('Predicted label',size=18)\n",
    "plt.xlabel('True label',size=18)\n",
    "plt.title(\"Confusion Matrix\\n\",size=24)\n",
    "plt.show()"
   ]
  },
  {
   "cell_type": "code",
   "execution_count": 54,
   "metadata": {},
   "outputs": [
    {
     "name": "stdout",
     "output_type": "stream",
     "text": [
      "accuracy at alpha=211 is 90.60763888888889\n",
      "accuracy at alpha=211 is 87.04997721403616\n",
      "precission score at alpha=211 is 96.87484349176141\n",
      "recall score at alpha 211 is 87.41018572913372\n",
      "f1_score at alpha=211 is 91.89946788293425\n"
     ]
    }
   ],
   "source": [
    "#evaluating accuracy\n",
    "tr_acc_tfidf=accuracy_score(y_train, y_tr_pred)*100\n",
    "print(\"accuracy at alpha={} is {}\" .format(optimal_alpha_tfidf,tr_acc_tfidf))\n",
    "test_acc_tfidf=accuracy_score(y_test, y_test_pred)*100\n",
    "print(\"accuracy at alpha={} is {}\" .format(optimal_alpha_tfidf,test_acc_tfidf))\n",
    "#evaluating preciission\n",
    "precision_tfidf=precision_score(y_test, y_test_pred,pos_label=\"positive\")*100\n",
    "print(\"precission score at alpha={} is {}\" .format(optimal_alpha_tfidf,precision_tfidf))\n",
    "#evaluating recaall\n",
    "recall_tfidf=recall_score(y_test,y_test_pred,pos_label=\"positive\")*100\n",
    "print(\"recall score at alpha {} is {}\" .format(optimal_alpha_tfidf,recall_tfidf))\n",
    "#evaluating f1 score\n",
    "f1_tfidf=f1_score(y_test,y_test_pred,pos_label=\"positive\")*100\n",
    "print(\"f1_score at alpha={} is {}\" .format(optimal_alpha_tfidf,f1_tfidf))"
   ]
  },
  {
   "cell_type": "markdown",
   "metadata": {},
   "source": [
    "# Top features\n"
   ]
  },
  {
   "cell_type": "code",
   "execution_count": 55,
   "metadata": {},
   "outputs": [
    {
     "name": "stdout",
     "output_type": "stream",
     "text": [
      "Top 20 Important Features and their log probabilities For Negative Class :\n",
      "\n",
      "\n",
      "not\t -->\t-6.958175  \n",
      "like\t -->\t-7.660606  \n",
      "taste\t -->\t-7.732039  \n",
      "product\t -->\t-7.829093  \n",
      "bad\t -->\t-7.953413  \n",
      "one\t -->\t-7.994639  \n",
      "disappointed\t -->\t-8.006048  \n",
      "even\t -->\t-8.034199  \n",
      "no\t -->\t-8.036289  \n",
      "money\t -->\t-8.056271  \n",
      "could\t -->\t-8.108943  \n",
      "thought\t -->\t-8.110529  \n",
      "not buy\t -->\t-8.126758  \n",
      "away\t -->\t-8.157963  \n",
      "waste\t -->\t-8.158714  \n",
      "buy\t -->\t-8.162805  \n",
      "get\t -->\t-8.180491  \n",
      "worst\t -->\t-8.180805  \n",
      "flavor\t -->\t-8.182287  \n",
      "awful\t -->\t-8.204064  \n",
      "\n",
      "\n",
      "Top 20 Important Features and their log probabilities For Positive Class :\n",
      "\n",
      "\n",
      "not\t -->\t-7.003082  \n",
      "great\t -->\t-7.328525  \n",
      "good\t -->\t-7.340480  \n",
      "like\t -->\t-7.371635  \n",
      "one\t -->\t-7.512976  \n",
      "love\t -->\t-7.523706  \n",
      "taste\t -->\t-7.576312  \n",
      "flavor\t -->\t-7.618994  \n",
      "product\t -->\t-7.682682  \n",
      "get\t -->\t-7.716863  \n",
      "best\t -->\t-7.724247  \n",
      "really\t -->\t-7.746628  \n",
      "also\t -->\t-7.784621  \n",
      "no\t -->\t-7.794829  \n",
      "much\t -->\t-7.796446  \n",
      "time\t -->\t-7.799722  \n",
      "little\t -->\t-7.802008  \n",
      "amazon\t -->\t-7.813543  \n",
      "price\t -->\t-7.815593  \n",
      "find\t -->\t-7.821424  \n"
     ]
    }
   ],
   "source": [
    "# Now we can find log probabilities of different features for both the classes\n",
    "class_features = optimal_nb_tfidf.feature_log_prob_\n",
    "\n",
    "#  row_0 is for 'negative' class and row_1 is for 'positive' class\n",
    "negative_features = class_features[0]\n",
    "positive_features = class_features[1]\n",
    "\n",
    "# Getting all feature names\n",
    "feature_names = tfidf_vect.get_feature_names()\n",
    "\n",
    "# Sorting 'negative_features' and 'positive_features' in descending order using argsort() function\n",
    "sorted_negative_features = np.argsort(negative_features)[::-1]\n",
    "sorted_positive_features = np.argsort(positive_features)[::-1]\n",
    "\n",
    "print(\"Top 20 Important Features and their log probabilities For Negative Class :\\n\\n\")\n",
    "for i in list(sorted_negative_features[0:20]):\n",
    "    print(\"%s\\t -->\\t%f  \"%(feature_names[i],negative_features[i]))\n",
    "    \n",
    "print(\"\\n\\nTop 20 Important Features and their log probabilities For Positive Class :\\n\\n\")\n",
    "for i in list(sorted_positive_features[0:20]):\n",
    "    print(\"%s\\t -->\\t%f  \"%(feature_names[i],positive_features[i])) "
   ]
  },
  {
   "cell_type": "markdown",
   "metadata": {},
   "source": [
    "# Table for model performance with their hyperparsameter"
   ]
  },
  {
   "cell_type": "code",
   "execution_count": 56,
   "metadata": {},
   "outputs": [
    {
     "name": "stdout",
     "output_type": "stream",
     "text": [
      "+-------+-------------------------+------------+-------------------+-------------------+\n",
      "| S.NO. |          MODEL          | Best Alpha | Training Accuracy |   Test Accuracy   |\n",
      "+-------+-------------------------+------------+-------------------+-------------------+\n",
      "|   1   |  MultinomialNB for BoW  |     31     |    93.06640625    | 83.58271304876196 |\n",
      "|   2   | MultinomialNB for TFIDF |    211     | 90.60763888888889 | 87.04997721403616 |\n",
      "+-------+-------------------------+------------+-------------------+-------------------+\n"
     ]
    }
   ],
   "source": [
    "from prettytable import PrettyTable\n",
    "names = [ \"MultinomialNB for BoW\",  \"MultinomialNB for TFIDF\"]\n",
    "\n",
    "optimal_alpha = [optimal_alpha_bow, optimal_alpha_tfidf]\n",
    "\n",
    "train_acc = [tr_acc_bow,  tr_acc_tfidf]\n",
    "\n",
    "test_acc = [test_acc_bow, test_acc_tfidf]\n",
    "\n",
    "numbering = [1,2]\n",
    "\n",
    "# Initializing prettytable\n",
    "ptable = PrettyTable()\n",
    "\n",
    "# Adding columns\n",
    "ptable.add_column(\"S.NO.\",numbering)\n",
    "ptable.add_column(\"MODEL\",names)\n",
    "ptable.add_column(\"Best Alpha\",optimal_alpha)\n",
    "ptable.add_column(\"Training Accuracy\",train_acc)\n",
    "ptable.add_column(\"Test Accuracy\",test_acc)\n",
    "\n",
    "# Printing the Table\n",
    "print(ptable)"
   ]
  },
  {
   "cell_type": "code",
   "execution_count": null,
   "metadata": {
    "collapsed": true
   },
   "outputs": [],
   "source": []
  }
 ],
 "metadata": {
  "kernelspec": {
   "display_name": "Python 3",
   "language": "python",
   "name": "python3"
  },
  "language_info": {
   "codemirror_mode": {
    "name": "ipython",
    "version": 3
   },
   "file_extension": ".py",
   "mimetype": "text/x-python",
   "name": "python",
   "nbconvert_exporter": "python",
   "pygments_lexer": "ipython3",
   "version": "3.6.5"
  }
 },
 "nbformat": 4,
 "nbformat_minor": 2
}
